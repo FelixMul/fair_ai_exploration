{
 "cells": [
  {
   "cell_type": "code",
   "execution_count": 3,
   "id": "b95a176b",
   "metadata": {},
   "outputs": [],
   "source": [
    "# --- IMPORTATIONS ---\n",
    "\n",
    "import os, joblib\n",
    "import numpy as np\n",
    "import pandas as pd\n",
    "import matplotlib.pyplot as plt\n",
    "\n",
    "from sklearn.model_selection import train_test_split\n",
    "from sklearn.preprocessing import StandardScaler, OneHotEncoder\n",
    "from sklearn.compose import ColumnTransformer\n",
    "from sklearn.pipeline import Pipeline\n",
    "from sklearn.impute import SimpleImputer\n",
    "\n",
    "from lime.lime_tabular import LimeTabularExplainer\n",
    "\n",
    "import lightgbm as lgb\n"
   ]
  },
  {
   "cell_type": "code",
   "execution_count": 4,
   "id": "c1d2847d",
   "metadata": {},
   "outputs": [],
   "source": [
    "# --- PATHS ---\n",
    "\n",
    "MAIN_DIR = \"black_box_model\"\n",
    "GRAPHS_DIR = os.path.join(MAIN_DIR, 'graphs')\n",
    "MODEL_DIR = os.path.join(MAIN_DIR, 'model')\n",
    "DATA_DIR = 'data'\n",
    "os.makedirs(GRAPHS_DIR, exist_ok=True)\n",
    "os.makedirs(MODEL_DIR, exist_ok=True)"
   ]
  },
  {
   "cell_type": "code",
   "execution_count": 5,
   "id": "284fc795",
   "metadata": {},
   "outputs": [
    {
     "name": "stdout",
     "output_type": "stream",
     "text": [
      "Dataset loaded successfully.\n",
      "Shape of the dataset: (1086236, 39)\n"
     ]
    }
   ],
   "source": [
    "# --- Loading the dataset ---\n",
    "\n",
    "data_path = os.path.join(DATA_DIR, 'dataproject2025.csv')\n",
    "try:\n",
    "    df = pd.read_csv(data_path)\n",
    "    print(\"Dataset loaded successfully.\")\n",
    "    print(\"Shape of the dataset:\", df.shape)\n",
    "except FileNotFoundError:\n",
    "    raise FileNotFoundError(f\"Error: 'dataproject2025.csv' not found at {data_path}.\")\n"
   ]
  },
  {
   "cell_type": "code",
   "execution_count": 6,
   "id": "9ffca26d",
   "metadata": {},
   "outputs": [
    {
     "name": "stdout",
     "output_type": "stream",
     "text": [
      "Features (X) shape: (1086236, 34)\n",
      "Target (y) shape: (1086236,)\n",
      "Found 28 numerical features.\n",
      "Found 6 categorical features.\n"
     ]
    }
   ],
   "source": [
    "# --- SAME DATA CLEARNING (MAYBE JUST DOWNLOAD CLEANED DATA) ---\n",
    "\n",
    "# Identify columns to exclude from features\n",
    "columns_to_exclude = [c for c in ['target', 'Predictions', 'Predicted probabilities', 'Unnamed: 0'] if c in df.columns]\n",
    "# Drop sensitive attribute(s)\n",
    "columns_to_exclude += [c for c in df.columns if 'Pct_afro_american' in c]\n",
    "\n",
    "# The 'target' column is our dependent variable (y)\n",
    "y = df['target']\n",
    "\n",
    "# The rest of the columns are potential features (X)\n",
    "X = df.drop(columns=columns_to_exclude, errors='ignore')\n",
    "\n",
    "# Preserve the identifier column for later export if present\n",
    "id_series = df['Unnamed: 0'] if 'Unnamed: 0' in df.columns else pd.Series(np.arange(len(df)), name='Unnamed: 0')\n",
    "\n",
    "print(\"Features (X) shape:\", X.shape)\n",
    "print(\"Target (y) shape:\", y.shape)\n",
    "\n",
    "# Automatically identify numerical and categorical columns\n",
    "numerical_features = X.select_dtypes(include=np.number).columns.tolist()\n",
    "categorical_features = X.select_dtypes(include='object').columns.tolist()\n",
    "\n",
    "print(f\"Found {len(numerical_features)} numerical features.\")\n",
    "print(f\"Found {len(categorical_features)} categorical features.\")\n",
    "\n",
    "# Split data into training and testing sets (80% train, 20% test)\n",
    "X_train, X_test, y_train, y_test = train_test_split(X, y, test_size=0.2, random_state=42, stratify=y)\n",
    "\n"
   ]
  },
  {
   "cell_type": "markdown",
   "id": "660133c7",
   "metadata": {},
   "source": [
    "# BUILDING AND TRAINING PIPELINE"
   ]
  },
  {
   "cell_type": "code",
   "execution_count": 7,
   "id": "40beda18",
   "metadata": {},
   "outputs": [],
   "source": [
    "# Create a preprocessing pipeline for numerical features:\n",
    "# 1. Impute missing values with the median\n",
    "# 2. Scale features to a standard range\n",
    "numeric_transformer = Pipeline(steps=[\n",
    "    ('imputer', SimpleImputer(strategy='median')),\n",
    "    ('scaler', StandardScaler())\n",
    "])\n",
    "\n",
    "# Create a preprocessing pipeline for categorical features:\n",
    "# 1. Impute missing values with a constant string 'missing'\n",
    "# 2. One-hot encode the categories\n",
    "categorical_transformer = Pipeline(steps=[\n",
    "    ('imputer', SimpleImputer(strategy='constant', fill_value='missing')),\n",
    "    ('onehot', OneHotEncoder(handle_unknown='ignore', sparse_output=False)) # sparse_output=False is often helpful for HistGradientBoostingClassifier\n",
    "])\n",
    "\n",
    "# Combine preprocessing steps into a single ColumnTransformer\n",
    "preprocessor = ColumnTransformer(\n",
    "    transformers=[\n",
    "        ('num', numeric_transformer, numerical_features),\n",
    "        ('cat', categorical_transformer, categorical_features)\n",
    "    ],\n",
    "    remainder='passthrough'\n",
    ")"
   ]
  },
  {
   "cell_type": "code",
   "execution_count": 8,
   "id": "59635758",
   "metadata": {},
   "outputs": [
    {
     "name": "stdout",
     "output_type": "stream",
     "text": [
      "--- Full Model Pipeline ---\n",
      "Pipeline(steps=[('preprocessor',\n",
      "                 ColumnTransformer(remainder='passthrough',\n",
      "                                   transformers=[('num',\n",
      "                                                  Pipeline(steps=[('imputer',\n",
      "                                                                   SimpleImputer(strategy='median')),\n",
      "                                                                  ('scaler',\n",
      "                                                                   StandardScaler())]),\n",
      "                                                  ['issue_d', 'loan duration',\n",
      "                                                   'annual_inc', 'avg_cur_bal',\n",
      "                                                   'bc_open_to_buy', 'bc_util',\n",
      "                                                   'delinq_2yrs', 'dti',\n",
      "                                                   'fico_range_high',\n",
      "                                                   'funded_amnt',\n",
      "                                                   'inq_last_6mths', 'int_rate',\n",
      "                                                   'mo_...\n",
      "                                                   'revol_bal', 'revol_util',\n",
      "                                                   'tax_liens', 'zip_code']),\n",
      "                                                 ('cat',\n",
      "                                                  Pipeline(steps=[('imputer',\n",
      "                                                                   SimpleImputer(fill_value='missing',\n",
      "                                                                                 strategy='constant')),\n",
      "                                                                  ('onehot',\n",
      "                                                                   OneHotEncoder(handle_unknown='ignore',\n",
      "                                                                                 sparse_output=False))]),\n",
      "                                                  ['emp_length', 'emp_title',\n",
      "                                                   'grade', 'home_ownership',\n",
      "                                                   'purpose', 'sub_grade'])])),\n",
      "                ('classifier',\n",
      "                 LGBMRegressor(n_estimators=200, objective='l2',\n",
      "                               random_state=42))])\n"
     ]
    }
   ],
   "source": [
    "# --- FULL MODEL PIPELINE ---\n",
    "\n",
    "# Define the model using LightGBM with explicit l2 (MSE) objective\n",
    "model = lgb.LGBMRegressor(objective='l2', n_estimators=200, random_state=42)\n",
    "\n",
    "# Create the full pipeline by chaining the preprocessor and the model\n",
    "full_pipeline = Pipeline(steps=[('preprocessor', preprocessor),\n",
    "                                ('classifier', model)])\n",
    "\n",
    "print(\"--- Full Model Pipeline ---\")\n",
    "print(full_pipeline)\n"
   ]
  },
  {
   "cell_type": "code",
   "execution_count": 9,
   "id": "58ba65e8",
   "metadata": {},
   "outputs": [
    {
     "name": "stdout",
     "output_type": "stream",
     "text": [
      "Training the model...\n",
      "[LightGBM] [Info] Auto-choosing row-wise multi-threading, the overhead of testing was 0.036633 seconds.\n",
      "You can set `force_row_wise=true` to remove the overhead.\n",
      "And if memory is not enough, you can set `force_col_wise=true`.\n",
      "[LightGBM] [Info] Total Bins 4006\n",
      "[LightGBM] [Info] Number of data points in the train set: 868988, number of used features: 148\n",
      "[LightGBM] [Info] Start training from score 0.347784\n",
      "Model training complete.\n"
     ]
    }
   ],
   "source": [
    "print(\"Training the model...\")\n",
    "# The pipeline handles imputation, scaling, and encoding automatically\n",
    "train_weights = np.where(y_train.values == 1, 2.0, 1.0)\n",
    "full_pipeline.fit(X_train, y_train, classifier__sample_weight=train_weights)\n",
    "print(\"Model training complete.\")"
   ]
  },
  {
   "cell_type": "code",
   "execution_count": 50,
   "id": "bb55c7da",
   "metadata": {},
   "outputs": [
    {
     "data": {
      "text/plain": [
       "['model/grad_boost_pipeline.joblib']"
      ]
     },
     "execution_count": 50,
     "metadata": {},
     "output_type": "execute_result"
    }
   ],
   "source": [
    "# --- SAVING THE PIPELINE ---\n",
    "\n",
    "joblib.dump(full_pipeline, 'model/grad_boost_pipeline.joblib')"
   ]
  },
  {
   "cell_type": "markdown",
   "id": "c57271b5",
   "metadata": {},
   "source": [
    "# LIME IMPLEMENTATION"
   ]
  },
  {
   "cell_type": "code",
   "execution_count": 11,
   "id": "52e7aaaf",
   "metadata": {},
   "outputs": [],
   "source": [
    "full_pipeline = joblib.load(os.path.join(MODEL_DIR, 'grad_boost_pipeline.joblib'))"
   ]
  },
  {
   "cell_type": "code",
   "execution_count": 12,
   "id": "5b35919b",
   "metadata": {},
   "outputs": [],
   "source": [
    "Xtr = X_train.copy()\n",
    "\n",
    "cat_idx = [Xtr.columns.get_loc(c) for c in categorical_features]\n",
    "cat_names = {}\n",
    "codetolabel = {}\n",
    "base_label = {} # default choice if Nan\n",
    "\n",
    "for c in categorical_features:\n",
    "    codes, levels = pd.factorize(Xtr[c].astype(str), sort=True) # ['b','b','a','c'] -> [0,0,1,2], ['b','a','c']\n",
    "    Xtr[c] = codes\n",
    "    cat_names[Xtr.columns.get_loc(c)] = levels.astype(str).tolist()\n",
    "    codetolabel[c] = dict(enumerate(cat_names[Xtr.columns.get_loc(c)]))\n",
    "    base_label[c] = levels[0]\n"
   ]
  },
  {
   "cell_type": "code",
   "execution_count": 13,
   "id": "f0142f05",
   "metadata": {},
   "outputs": [],
   "source": [
    "cat_features = [X_train.columns.get_loc(c) for c in categorical_features]\n",
    "\n",
    "explainer = LimeTabularExplainer(\n",
    "    training_data = Xtr.values,\n",
    "    mode=\"regression\",\n",
    "    feature_names=Xtr.columns.tolist(),\n",
    "    categorical_features = cat_features,\n",
    "    categorical_names = cat_names,\n",
    "    discretize_continuous=True\n",
    ")"
   ]
  },
  {
   "cell_type": "code",
   "execution_count": 14,
   "id": "2ef7ad2e",
   "metadata": {},
   "outputs": [],
   "source": [
    "def predict_lime(Z):\n",
    "    Z = np.asarray(Z)\n",
    "    df = pd.DataFrame(Z, columns=X_train.columns)\n",
    "\n",
    "    # Re-map of columns : code -> labels\n",
    "    for c in categorical_features:\n",
    "        df[c] = (\n",
    "            pd.to_numeric(df[c], errors=\"coerce\")\n",
    "              .round().fillna(0).astype(int) # make sure all values are back to int\n",
    "              .map(codetolabel[c]) # apply conversion\n",
    "              .fillna(base_label[c])  # default label in case of NaN\n",
    "        )\n",
    "\n",
    "    return full_pipeline.predict(df)"
   ]
  },
  {
   "cell_type": "code",
   "execution_count": 19,
   "id": "c26c2778",
   "metadata": {},
   "outputs": [],
   "source": [
    "def explain_instance(i):\n",
    "    # encoding labels\n",
    "    x0 = X_test.iloc[i].copy()\n",
    "    for c in categorical_features:\n",
    "        inv = {v:k for k,v in codetolabel[c].items()}\n",
    "        x0[c] = inv.get(str(x0[c]), 0)\n",
    "\n",
    "    exp = explainer.explain_instance(x0.values.astype(float), predict_fn = predict_lime)\n",
    "\n",
    "    # Plotting\n",
    "    html = exp.as_html()\n",
    "    with open(f\"LIME_explanations/lime_explanation_{i}.html\", \"w\") as f: # TOCHECK: if i is index of X_test or original dataset\n",
    "        f.write(html)\n",
    "    return exp"
   ]
  },
  {
   "cell_type": "code",
   "execution_count": 20,
   "id": "0f4303d8",
   "metadata": {},
   "outputs": [
    {
     "name": "stderr",
     "output_type": "stream",
     "text": [
      "/Users/paul-philiplouis/anaconda3/envs/dynamic/lib/python3.12/site-packages/sklearn/utils/validation.py:2749: UserWarning: X does not have valid feature names, but LGBMRegressor was fitted with feature names\n",
      "  warnings.warn(\n"
     ]
    }
   ],
   "source": [
    "exp = explain_instance(32)"
   ]
  },
  {
   "cell_type": "code",
   "execution_count": 21,
   "id": "7191c1fd",
   "metadata": {},
   "outputs": [
    {
     "data": {
      "image/png": "[encoded data removed]",
      "text/plain": [
       "<Figure size 640x480 with 1 Axes>"
      ]
     },
     "metadata": {},
     "output_type": "display_data"
    }
   ],
   "source": [
    "label = list(exp.local_exp.keys())[0]   # regression: single label\n",
    "fig = exp.as_pyplot_figure(label=label)\n",
    "plt.show()"
   ]
  },
  {
   "cell_type": "code",
   "execution_count": null,
   "id": "a4053c38",
   "metadata": {},
   "outputs": [],
   "source": []
  }
 ],
 "metadata": {
  "kernelspec": {
   "display_name": "dynamic",
   "language": "python",
   "name": "python3"
  },
  "language_info": {
   "codemirror_mode": {
    "name": "ipython",
    "version": 3
   },
   "file_extension": ".py",
   "mimetype": "text/x-python",
   "name": "python",
   "nbconvert_exporter": "python",
   "pygments_lexer": "ipython3",
   "version": "3.12.11"
  }
 },
 "nbformat": 4,
 "nbformat_minor": 5
}
